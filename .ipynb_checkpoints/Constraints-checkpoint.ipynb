{
 "cells": [
  {
   "cell_type": "markdown",
   "metadata": {},
   "source": [
    "## Constraints\n",
    "Your team has a budget of 200,000,000 credits (CR) to design an optimal antenna layout, and a\n",
    "daily operational budget of 2,000,000CR. That is, once you have constructed your telescope, you will\n",
    "have 2M-CR/day to operate your telescope. The following constraints apply:\n",
    "\n",
    "* You have 5-years to build and operation your telescope.\n",
    "* Each dish costs 100,000CR to build.\n",
    "* You will need some cable and infrastructure for each dish. For each dish, this infrastructural\n",
    "  cost is 1000CR per metre away from the centre of the array. For example, the infrastructural cost\n",
    "  for a dish that is 3200-_metres_ away from the centre of the array is 3,200,000CR.\n",
    "* The maximum baseline cannot exceed 20km.\n",
    "* The dish size is 12-metres. Therefore, the minimum distance between each dish is 12-metres. In\n",
    "  practice, the real distance is slightly larger to avoid _shadowing_.\n",
    "* Deduce/invent a way to measure _how well_ your radio array has reconstructed the test image, which\n",
    "  is a measure of image _fidelity_. For example, the difference between the output image (i.e.,\n",
    "  after imaging) and your original test image ought to be as small as possible. Another possible\n",
    "  metric could be the ratio of the test and output images; perfect reconstruction would produce a\n",
    "  ratio-image that is unity everywhere. In practice, neither metric will be perfect. There is,\n",
    "  however, a task in CASA that will do an evaluation for you, and will calculate a fidelity image\n",
    "  for you. Consult the guide on [simulating observations][casasim] for more details and ideas."
   ]
  }
 ],
 "metadata": {
  "kernelspec": {
   "display_name": "Python 3",
   "language": "python",
   "name": "python3"
  },
  "language_info": {
   "codemirror_mode": {
    "name": "ipython",
    "version": 3
   },
   "file_extension": ".py",
   "mimetype": "text/x-python",
   "name": "python",
   "nbconvert_exporter": "python",
   "pygments_lexer": "ipython3",
   "version": "3.6.2"
  }
 },
 "nbformat": 4,
 "nbformat_minor": 2
}
